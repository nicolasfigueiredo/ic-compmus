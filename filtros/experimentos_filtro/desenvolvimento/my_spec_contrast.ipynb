{
 "cells": [
  {
   "cell_type": "code",
   "execution_count": 16,
   "metadata": {
    "collapsed": false
   },
   "outputs": [],
   "source": [
    "import librosa\n",
    "import librosa.display\n",
    "import numpy as np\n",
    "import matplotlib.pyplot as plt\n",
    "import scipy.stats\n",
    "%matplotlib inline"
   ]
  },
  {
   "cell_type": "code",
   "execution_count": 2,
   "metadata": {
    "collapsed": false
   },
   "outputs": [],
   "source": [
    "y, sr = librosa.load(\"../../../audio/whittakeri.wav\", sr=44100)\n",
    "Y = librosa.stft(y, n_fft = 4096, hop_length = 512)\n",
    "Y_dB = librosa.amplitude_to_db(Y, ref=np.max)\n",
    "contrast = librosa.feature.spectral_contrast(S=np.abs(Y), sr=sr, linear=True, n_bands=8, fmin=64)"
   ]
  },
  {
   "cell_type": "code",
   "execution_count": 3,
   "metadata": {
    "collapsed": true
   },
   "outputs": [],
   "source": [
    "def fft_frequencies(sr=44100, n_fft=4096):\n",
    "    return np.linspace(0,\n",
    "                       float(sr) / 2,\n",
    "                       int(1 + n_fft//2),\n",
    "                       endpoint=True)"
   ]
  },
  {
   "cell_type": "code",
   "execution_count": 40,
   "metadata": {
    "collapsed": false
   },
   "outputs": [],
   "source": [
    "def new_spectral_contrast(y=None, sr=22050, S=None, n_fft=2048, hop_length=512,\n",
    "                      freq=None, fmin=200.0, n_bands=6, quantile=0.02,\n",
    "                      linear=False, arg1='mean', arg2='median'):\n",
    "    if freq is None:\n",
    "        freq = fft_frequencies(sr=sr, n_fft=n_fft)\n",
    "\n",
    "    freq = np.atleast_1d(freq)\n",
    "\n",
    "    if freq.ndim != 1 or len(freq) != S.shape[0]:\n",
    "        raise ParameterError('freq.shape mismatch: expected '\n",
    "                             '({:d},)'.format(S.shape[0]))\n",
    "\n",
    "    if n_bands < 1 or not isinstance(n_bands, int):\n",
    "        raise ParameterError('n_bands must be a positive integer')\n",
    "\n",
    "    if not 0.0 < quantile < 1.0:\n",
    "        raise ParameterError('quantile must lie in the range (0, 1)')\n",
    "\n",
    "    if fmin <= 0:\n",
    "        raise ParameterError('fmin must be a positive number')\n",
    "\n",
    "    octa = np.zeros(n_bands + 2)\n",
    "    octa[1:] = fmin * (2.0**np.arange(0, n_bands + 1))\n",
    "\n",
    "    if np.any(octa[:-1] >= 0.5 * sr):\n",
    "        raise ParameterError('Frequency band exceeds Nyquist. '\n",
    "                             'Reduce either fmin or n_bands.')\n",
    "\n",
    "    arg1m = np.zeros((n_bands + 1, S.shape[1]))\n",
    "    arg2m = np.zeros_like(arg1m)\n",
    "    \n",
    "    for k, (f_low, f_high) in enumerate(zip(octa[:-1], octa[1:])):\n",
    "    \n",
    "        current_band = np.logical_and(freq >= f_low, freq <= f_high)\n",
    "        idx = np.flatnonzero(current_band)    \n",
    "\n",
    "        if k > 0:\n",
    "            current_band[idx[0] - 1] = True\n",
    "        if k == n_bands:\n",
    "            current_band[idx[-1] + 1:] = True\n",
    "\n",
    "        sub_band = S[current_band]\n",
    "\n",
    "        if k < n_bands:\n",
    "            sub_band = sub_band[:-1]\n",
    "\n",
    "    #     idx = np.rint(quantile * np.sum(current_band))\n",
    "    #     idx = int(np.maximum(idx, 1))\n",
    "\n",
    "    #     sortedr = np.sort(sub_band, axis=0)\n",
    "    #     valley[k] = np.mean(sortedr[:idx], axis=0)\n",
    "    #     peak[k] = np.mean(sortedr[-idx:], axis=0)\n",
    "\n",
    "        if arg1 == 'max':\n",
    "            arg1m[k] = np.max(sub_band, axis=0)\n",
    "        elif arg1 == 'mean':\n",
    "            arg1m[k] = np.mean(sub_band, axis=0)\n",
    "        elif arg1 == 'median':\n",
    "            arg1m[k] = np.median(sub_band, axis=0)\n",
    "        elif arg1 == 'mode':\n",
    "            arg1m[k] = scipy.stats.mode(np.rint(sub_band), axis=0)[0]\n",
    "    \n",
    "        if arg2 == 'min':\n",
    "            arg2m[k] = np.min(sub_band, axis=0)\n",
    "        elif arg2 == 'mean':\n",
    "            arg2m[k] = np.mean(sub_band, axis=0)\n",
    "        elif arg2 == 'median':\n",
    "            arg2m[k] = np.median(sub_band, axis=0)\n",
    "        elif arg2 == 'mode':\n",
    "            arg2m[k] = scipy.stats.mode(np.rint(sub_band), axis=0)[0]\n",
    "    \n",
    "    \n",
    "    return arg1m - arg2m"
   ]
  },
  {
   "cell_type": "code",
   "execution_count": 18,
   "metadata": {
    "collapsed": false
   },
   "outputs": [],
   "source": [
    "contrast = new_spectral_contrast(S=np.abs(Y), sr=sr, linear=True, n_bands=8, fmin=64, n_fft=4096, arg1='max', arg2='min')"
   ]
  },
  {
   "cell_type": "code",
   "execution_count": 19,
   "metadata": {
    "collapsed": false
   },
   "outputs": [
    {
     "data": {
      "text/plain": [
       "<matplotlib.colorbar.Colorbar at 0x7fbdea769a20>"
      ]
     },
     "execution_count": 19,
     "metadata": {},
     "output_type": "execute_result"
    },
    {
     "data": {
      "image/png": "[encoded data removed]",
      "text/plain": [
       "<matplotlib.figure.Figure at 0x7fbdea87bb70>"
      ]
     },
     "metadata": {},
     "output_type": "display_data"
    }
   ],
   "source": [
    "contrast = new_spectral_contrast(S=np.abs(Y), sr=sr, linear=True, n_bands=8, fmin=64, n_fft=4096, arg1='max', arg2='min')\n",
    "plt.figure()\n",
    "librosa.display.specshow(contrast, x_axis='time', sr=sr, hop_length = 512)\n",
    "plt.colorbar()"
   ]
  },
  {
   "cell_type": "code",
   "execution_count": 31,
   "metadata": {
    "collapsed": false
   },
   "outputs": [
    {
     "data": {
      "text/plain": [
       "<matplotlib.colorbar.Colorbar at 0x7fbde642f860>"
      ]
     },
     "execution_count": 31,
     "metadata": {},
     "output_type": "execute_result"
    },
    {
     "data": {
      "image/png": "[encoded data removed]",
      "text/plain": [
       "<matplotlib.figure.Figure at 0x7fbdea572710>"
      ]
     },
     "metadata": {},
     "output_type": "display_data"
    }
   ],
   "source": [
    "contrast = new_spectral_contrast(S=np.abs(Y), sr=sr, linear=True, n_bands=8, fmin=64, n_fft=4096, arg1='max', arg2='median')\n",
    "plt.figure()\n",
    "librosa.display.specshow(contrast, x_axis='time', sr=sr, hop_length = 512)\n",
    "plt.colorbar()"
   ]
  },
  {
   "cell_type": "code",
   "execution_count": 47,
   "metadata": {
    "collapsed": false
   },
   "outputs": [
    {
     "data": {
      "text/plain": [
       "<matplotlib.colorbar.Colorbar at 0x7fbde5e55da0>"
      ]
     },
     "execution_count": 47,
     "metadata": {},
     "output_type": "execute_result"
    },
    {
     "data": {
      "image/png": "[encoded data removed]",
      "text/plain": [
       "<matplotlib.figure.Figure at 0x7fbde5f62828>"
      ]
     },
     "metadata": {},
     "output_type": "display_data"
    }
   ],
   "source": [
    "contrast = new_spectral_contrast(S=np.abs(Y), sr=sr, linear=True, n_bands=8, fmin=64, n_fft=4096, arg1='mean', arg2='median')\n",
    "plt.figure()\n",
    "librosa.display.specshow(contrast, x_axis='time', sr=sr, hop_length = 512)\n",
    "plt.colorbar()"
   ]
  }
 ],
 "metadata": {
  "kernelspec": {
   "display_name": "Python 3",
   "language": "python",
   "name": "python3"
  },
  "language_info": {
   "codemirror_mode": {
    "name": "ipython",
    "version": 3
   },
   "file_extension": ".py",
   "mimetype": "text/x-python",
   "name": "python",
   "nbconvert_exporter": "python",
   "pygments_lexer": "ipython3",
   "version": "3.6.0"
  }
 },
 "nbformat": 4,
 "nbformat_minor": 2
}
